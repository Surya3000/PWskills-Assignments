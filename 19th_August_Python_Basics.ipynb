{
 "cells": [
  {
   "cell_type": "markdown",
   "id": "03daa281-5f3e-45bb-8794-e6f34533501c",
   "metadata": {},
   "source": [
    "# **TOPIC: Python Basics Variable**\n"
   ]
  },
  {
   "cell_type": "markdown",
   "id": "f386c9e4-29ef-4524-9334-48df01c909af",
   "metadata": {},
   "source": [
    "1. Declare two variables, `x` and `y`, and assign them integer values. Swap the\n",
    "values of these variables without using any temporary variable."
   ]
  },
  {
   "cell_type": "code",
   "execution_count": 14,
   "id": "334d89b7-02a0-4550-8cf6-32aa941a7947",
   "metadata": {},
   "outputs": [
    {
     "name": "stdout",
     "output_type": "stream",
     "text": [
      "Before Swap the values are x=8 , y=9\n",
      "After Swap the values are x=9 , y=8\n"
     ]
    }
   ],
   "source": [
    "x = 8\n",
    "y = 9\n",
    "print(f\"Before Swap the values are x={x} , y={y}\");\n",
    "\n",
    "# Assigning the variables in a different order\n",
    "x, y = y , x\n",
    "print(f\"After Swap the values are x={x} , y={y}\");"
   ]
  },
  {
   "cell_type": "markdown",
   "id": "74d869c2-ab46-49c5-b4a7-deb7f4522b28",
   "metadata": {},
   "source": [
    "2. Create a program that calculates the area of a rectangle. Take the length and\n",
    "width as inputs from the user and store them in variables. Calculate and\n",
    "display the area."
   ]
  },
  {
   "cell_type": "code",
   "execution_count": 6,
   "id": "aec8380f-b6f2-4624-adf3-b4c291359313",
   "metadata": {},
   "outputs": [
    {
     "name": "stdin",
     "output_type": "stream",
     "text": [
      " 9\n"
     ]
    }
   ],
   "source": [
    "# Input length and width from the user\n",
    "length = int(input())"
   ]
  },
  {
   "cell_type": "code",
   "execution_count": 7,
   "id": "557e8f9a-6858-41bb-a803-270f23c6e95b",
   "metadata": {},
   "outputs": [
    {
     "name": "stdin",
     "output_type": "stream",
     "text": [
      " 5\n"
     ]
    }
   ],
   "source": [
    "width = int(input())"
   ]
  },
  {
   "cell_type": "code",
   "execution_count": 8,
   "id": "5f0e2986-092a-4112-902f-11bc2dd5bbe9",
   "metadata": {},
   "outputs": [
    {
     "name": "stdout",
     "output_type": "stream",
     "text": [
      "Area of the rectangle is 45\n"
     ]
    }
   ],
   "source": [
    "# Calculate the area\n",
    "Area = length * width\n",
    "# Display the area\n",
    "print(f\"Area of the rectangle is {Area}\") "
   ]
  },
  {
   "cell_type": "markdown",
   "id": "3b253a7d-494e-494f-a041-61482704a339",
   "metadata": {},
   "source": [
    "3. Write a Python program that converts temperatures from Celsius to\n",
    "Fahrenheit. Take the temperature in Celsius as input, store it in a variable,\n",
    "convert it to Fahrenheit, and display the result"
   ]
  },
  {
   "cell_type": "code",
   "execution_count": 13,
   "id": "a52dc30d-72fc-4e68-ad76-75c0734fc085",
   "metadata": {},
   "outputs": [
    {
     "name": "stdin",
     "output_type": "stream",
     "text": [
      "Celcius = 40\n"
     ]
    }
   ],
   "source": [
    "# Input temperature in Celsius\n",
    "celsius = float(input(\"Celcius =\"))"
   ]
  },
  {
   "cell_type": "code",
   "execution_count": 14,
   "id": "b84b61c6-5c88-4bab-9103-5f0635283b55",
   "metadata": {},
   "outputs": [
    {
     "name": "stdout",
     "output_type": "stream",
     "text": [
      "The temperature in Fahrenheit is 104.0 degrees\n"
     ]
    }
   ],
   "source": [
    "# Convert to Fahrenheit\n",
    "fahrenheit = (celsius * 9/5) + 32\n",
    "# Display the result\n",
    "print(f\"The temperature in Fahrenheit is {fahrenheit} degrees\")"
   ]
  },
  {
   "cell_type": "markdown",
   "id": "1c742463-4f1f-4806-a1b4-ec9d1060ec44",
   "metadata": {},
   "source": [
    "# **TOPIC: String Based Questions**"
   ]
  },
  {
   "cell_type": "markdown",
   "id": "52506d62-c5be-42fb-b9fe-c2d858f37f1c",
   "metadata": {},
   "source": [
    "1. Write a Python program that takes a string as input and prints the length of\n",
    "the string."
   ]
  },
  {
   "cell_type": "code",
   "execution_count": 22,
   "id": "47936fb8-8fab-4366-ae02-6071d4ada1a1",
   "metadata": {},
   "outputs": [
    {
     "name": "stdin",
     "output_type": "stream",
     "text": [
      "Enter a string = ineuron\n"
     ]
    }
   ],
   "source": [
    "# Input a string from the user\n",
    "s = input(\"Enter a string =\")"
   ]
  },
  {
   "cell_type": "code",
   "execution_count": 23,
   "id": "d74952b8-413b-41e1-a3f5-2776eacfada9",
   "metadata": {},
   "outputs": [
    {
     "name": "stdout",
     "output_type": "stream",
     "text": [
      " length of the string is  7\n"
     ]
    }
   ],
   "source": [
    "# Calculate and Print the length of the string\n",
    "print(\" length of the string is \" ,len(s))"
   ]
  },
  {
   "cell_type": "markdown",
   "id": "93984549-e7f9-440c-9b59-dd131f84b528",
   "metadata": {},
   "source": [
    "2. Create a program that takes a sentence from the user and counts the number\n",
    "of vowels (a, e, i, o, u) in the string."
   ]
  },
  {
   "cell_type": "code",
   "execution_count": 47,
   "id": "ef8a028f-5712-4095-b86e-9096429d0f8d",
   "metadata": {},
   "outputs": [
    {
     "name": "stdin",
     "output_type": "stream",
     "text": [
      "Enter a sentence =  I am learning data\n"
     ]
    }
   ],
   "source": [
    "# Input a sentence from the user\n",
    "sentence = input(\"Enter a sentence = \")"
   ]
  },
  {
   "cell_type": "code",
   "execution_count": 48,
   "id": "bf9e6632-5ae3-48fc-a473-084bc4bbde70",
   "metadata": {},
   "outputs": [
    {
     "name": "stdout",
     "output_type": "stream",
     "text": [
      "The number of vowels in the sentence is: 6\n"
     ]
    }
   ],
   "source": [
    "# Define a set of vowels\n",
    "vowels = ('a', 'e', 'i', 'o', 'u')\n",
    "# Initialize a counter for vowels\n",
    "count = 0\n",
    "for s in sentence:\n",
    "    if s in vowels: \n",
    "   \t\tcount += 1 \n",
    "# Display the count of vowels\n",
    "print(f\"The number of vowels in the sentence is: {count}\")"
   ]
  },
  {
   "cell_type": "markdown",
   "id": "2f1ee265-ad5c-4cae-9426-e6937690f8e4",
   "metadata": {},
   "source": [
    "3. Given a string, reverse the order of characters using string slicing and print\n",
    "the reversed string"
   ]
  },
  {
   "cell_type": "code",
   "execution_count": 52,
   "id": "ea5f0613-9ac4-4ba7-91b1-8085e2261178",
   "metadata": {},
   "outputs": [
    {
     "name": "stdout",
     "output_type": "stream",
     "text": [
      "the reverse string is norueni\n"
     ]
    }
   ],
   "source": [
    "s = \"ineuron\"\n",
    "reverse = s[::-1]\n",
    "print(f\"the reverse string is {reverse}\")"
   ]
  },
  {
   "cell_type": "markdown",
   "id": "76b3e990-c093-44e3-9b41-db407544718a",
   "metadata": {},
   "source": [
    "**Explanation**\n",
    "\n",
    "[::-1]\n",
    "\n",
    "-The first colon : indicates the start of the slicing.\n",
    "-The absence of a start value before the colon implies the beginning of the sequence.\n",
    "-The second colon with -1 as the step value signifies that the slice should iterate over the sequence in reverse order, starting from the end towards the beginning.\n",
    "-The absence of an end value after the second colon implies the end of the sequence."
   ]
  },
  {
   "cell_type": "markdown",
   "id": "344718a8-88b9-4e6d-a297-20f48b65fa1f",
   "metadata": {},
   "source": [
    "4. Write a program that takes a string as input and checks if it is a palindrome\n",
    "(reads the same forwards and backwards)."
   ]
  },
  {
   "cell_type": "code",
   "execution_count": 61,
   "id": "2179f10d-4523-4f61-9d09-a59c2ff2bfd9",
   "metadata": {},
   "outputs": [
    {
     "name": "stdin",
     "output_type": "stream",
     "text": [
      "Enter a string = madam\n"
     ]
    }
   ],
   "source": [
    "st = input(\"Enter a string =\")"
   ]
  },
  {
   "cell_type": "code",
   "execution_count": 62,
   "id": "5ab6e91a-7678-4d03-a898-e2d9722f8540",
   "metadata": {},
   "outputs": [
    {
     "name": "stdout",
     "output_type": "stream",
     "text": [
      "madam is a palindrome\n"
     ]
    }
   ],
   "source": [
    "reverse_st = st[::-1]\n",
    "if st == reverse_st:\n",
    "    print(f\"{st} is a palindrome\")\n",
    "else:\n",
    "    print(f\"{st} is not a palindrome\")"
   ]
  },
  {
   "cell_type": "markdown",
   "id": "2c3d8758-8514-4f1a-bab9-9982dc487581",
   "metadata": {},
   "source": [
    "**Explanation**\n",
    "\n",
    "Here , I have reversed the given string and compared to the string itself ,to check if it is a palindrome"
   ]
  },
  {
   "cell_type": "markdown",
   "id": "21587a48-4ed8-47d6-9a1f-2c88a4259354",
   "metadata": {},
   "source": [
    "5. Create a program that takes a string as input and removes all the spaces from\n",
    "it. Print the modified string without spaces."
   ]
  },
  {
   "cell_type": "code",
   "execution_count": 65,
   "id": "68670729-a6f9-47c5-b169-b3d6d4844d76",
   "metadata": {},
   "outputs": [
    {
     "name": "stdin",
     "output_type": "stream",
     "text": [
      "Enter the string = hello world I see numbers\n"
     ]
    }
   ],
   "source": [
    "string = input(\"Enter the string =\")"
   ]
  },
  {
   "cell_type": "code",
   "execution_count": 68,
   "id": "9264e2bd-cf0c-4843-ab6e-aa78ae28a0d0",
   "metadata": {},
   "outputs": [
    {
     "name": "stdout",
     "output_type": "stream",
     "text": [
      "The modified string is helloworldIseenumbers\n"
     ]
    }
   ],
   "source": [
    "modstring = string.replace(\" \", \"\")\n",
    "print(f\"The modified string is {modstring}\")"
   ]
  },
  {
   "cell_type": "markdown",
   "id": "aae0173c-21ca-40ed-9bc4-35811b2d2ad7",
   "metadata": {},
   "source": [
    "**Explanation**\n",
    "\n",
    "Here , I just replaced the space in the string with nothing in the string using replace method"
   ]
  }
 ],
 "metadata": {
  "kernelspec": {
   "display_name": "Python 3 (ipykernel)",
   "language": "python",
   "name": "python3"
  },
  "language_info": {
   "codemirror_mode": {
    "name": "ipython",
    "version": 3
   },
   "file_extension": ".py",
   "mimetype": "text/x-python",
   "name": "python",
   "nbconvert_exporter": "python",
   "pygments_lexer": "ipython3",
   "version": "3.10.8"
  }
 },
 "nbformat": 4,
 "nbformat_minor": 5
}
